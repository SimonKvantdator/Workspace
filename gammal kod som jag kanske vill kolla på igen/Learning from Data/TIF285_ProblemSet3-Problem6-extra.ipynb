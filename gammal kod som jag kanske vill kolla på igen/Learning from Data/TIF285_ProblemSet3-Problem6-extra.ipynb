{
 "cells": [
  {
   "cell_type": "markdown",
   "metadata": {},
   "source": [
    "# Problem Set 3: Extra problems\n",
    "## Learning from data [TIF285], Chalmers, Fall 2019\n",
    "\n",
    "Last revised: 17-Oct-2019 by Christian Forssén [christian.forssen@chalmers.se]"
   ]
  },
  {
   "cell_type": "markdown",
   "metadata": {},
   "source": [
    "## Instructions"
   ]
  },
  {
   "cell_type": "markdown",
   "metadata": {},
   "source": [
    "- See deadline on the course web page\n",
    "- This problem set is performed individually (but collaboration is encouraged) and contains a number of basic and extra problems; you can choose which and how many to work on.\n",
    "- See examination rules on the course web page.\n",
    "- Hand-in is performed through the following **two** actions:\n",
    "  - Upload of your solution in the form of a jupyter notebook, or python code, via Canvas.\n",
    "  - Answer the corresponding questions on OpenTA.\n",
    "  \n",
    "  Note that the hand-in is not complete, and will not be graded, if any of those actions is not performed."
   ]
  },
  {
   "cell_type": "markdown",
   "metadata": {},
   "source": [
    "Fill your personal details\n",
    "- Name: **Jacobsson, Simon**\n",
    "- Personnummer: **970417-0456**\n",
    "  <br/>\n",
    "  (civic registration number)"
   ]
  },
  {
   "cell_type": "markdown",
   "metadata": {
    "slideshow": {
     "slide_type": "subslide"
    }
   },
   "source": [
    "## Problems\n",
    "The 8 extra points of this problem set are distributed over two problems:\n",
    "5. Bayesian Optimization (4 extra points)\n",
    "6. Deep neural network python class (4 extra points)"
   ]
  },
  {
   "cell_type": "markdown",
   "metadata": {
    "slideshow": {
     "slide_type": "subslide"
    }
   },
   "source": [
    "# Problem 6: (extra) Deep neural network python class\n",
    "### (4 extra points)\n",
    "<!-- Author: -->  \n",
    "Christian Forssén, Chalmers, and\n",
    "Morten Hjorth-Jensen, University of Oslo and Michigan State University"
   ]
  },
  {
   "cell_type": "code",
   "execution_count": 1,
   "metadata": {},
   "outputs": [],
   "source": [
    "import numpy as np\n",
    "import matplotlib as mpl\n",
    "import matplotlib.pyplot as plt\n",
    "\n",
    "### latex stuff ###\n",
    "use_tex = False\n",
    "\n",
    "if use_tex:\n",
    "    width = 5.5  # 5.5 for producing plot for report\n",
    "    height = width/1.5\n",
    "    fsize = 10  # fontsize, 10 for producing plot for report\n",
    "    #font = {'family': 'serif', 'serif': ['DejaVu Sans'],'size': fsize}\n",
    "    font = {'family': 'Times New Roman', 'size': fsize}\n",
    "else:\n",
    "    width = 6\n",
    "    height = width/1.5\n",
    "    fsize = 16\n",
    "    font = {'size': fsize}\n",
    "    \n",
    "mpl.rc('font', **font)\n",
    "mpl.rc('xtick', labelsize=fsize)\n",
    "mpl.rc('ytick', labelsize=fsize)\n",
    "mpl.rc('text', usetex=use_tex)"
   ]
  },
  {
   "cell_type": "markdown",
   "metadata": {},
   "source": [
    "## Developing a code for doing neural networks with back propagation\n",
    "\n",
    "One can identify a set of key steps when using neural networks to solve supervised learning problems:  \n",
    "  \n",
    "1. Collect and pre-process data  \n",
    "1. Define model and architecture  \n",
    "1. Choose cost function and optimizer  \n",
    "1. Train the model  \n",
    "1. Adjust hyperparameters (if necessary, network architecture)\n",
    "1. Evaluate model performance on test data  "
   ]
  },
  {
   "cell_type": "markdown",
   "metadata": {},
   "source": [
    "### Collect and pre-process data\n",
    "\n",
    "Here we will be using the MNIST dataset, which is readily available through the **scikit-learn**\n",
    "package. You may also find it for example [here](http://yann.lecun.com/exdb/mnist/).  \n",
    "The *MNIST* (Modified National Institute of Standards and Technology) database is a large database\n",
    "of handwritten digits that is commonly used for training various image processing systems.  \n",
    "The MNIST dataset consists of 70 000 images of size $28\\times 28$ pixels, each labeled from 0 to 9.  \n",
    "The scikit-learn dataset we will use consists of a selection of 1797 images of size $8\\times 8$ collected and processed from this database.  \n",
    "\n",
    "Since each input image is a 2D matrix, we need to flatten the image\n",
    "(i.e. \"unravel\" the 2D matrix into a 1D array) to turn the data into a\n",
    "design/feature matrix. This means we lose all spatial information in the\n",
    "image, such as locality and translational invariance. More complicated\n",
    "architectures such as Convolutional Neural Networks can take advantage\n",
    "of such information, and are most commonly applied when analyzing\n",
    "images."
   ]
  },
  {
   "cell_type": "code",
   "execution_count": 2,
   "metadata": {},
   "outputs": [
    {
     "name": "stdout",
     "output_type": "stream",
     "text": [
      "inputs: (n_data, pixel_width, pixel_height) = (1797, 8, 8)\n",
      "                       with labels (n_data) = (1797,)\n",
      "\n",
      "flattened input, X: (n_inputs, n_features)  = (1797, 64)\n"
     ]
    },
    {
     "data": {
      "image/png": "[encoded data removed]",
      "text/plain": [
       "<Figure size 432x288 with 5 Axes>"
      ]
     },
     "metadata": {
      "needs_background": "light"
     },
     "output_type": "display_data"
    }
   ],
   "source": [
    "# import \n",
    "from sklearn import datasets\n",
    "\n",
    "# ensure the same random numbers appear every time\n",
    "np.random.seed(0)\n",
    "\n",
    "# download MNIST dataset\n",
    "digits = datasets.load_digits()\n",
    "\n",
    "# define inputs and labels\n",
    "inputs = digits.images\n",
    "labels = digits.target\n",
    "\n",
    "print(f\"inputs: (n_data, pixel_width, pixel_height) = {inputs.shape}\")\n",
    "print(f\"                       with labels (n_data) = {labels.shape}\")\n",
    "\n",
    "\n",
    "# flatten the image\n",
    "# the value -1 means dimension is inferred from the remaining dimensions: 8x8 = 64\n",
    "n_inputs = len(inputs)\n",
    "inputs = inputs.reshape(n_inputs, -1)\n",
    "print(f\"\\nflattened input, X: (n_inputs, n_features)  = {inputs.shape}\")\n",
    "\n",
    "\n",
    "# choose some random images to display\n",
    "indices = np.arange(n_inputs)\n",
    "random_indices = np.random.choice(indices, size=5)\n",
    "\n",
    "for i, image in enumerate(digits.images[random_indices]):\n",
    "    plt.subplot(1, 5, i+1)\n",
    "    plt.axis('off')\n",
    "    plt.imshow(image, cmap=plt.cm.gray_r, interpolation='nearest')\n",
    "    plt.title(f\"Label: {digits.target[random_indices[i]]:1}\")"
   ]
  },
  {
   "cell_type": "markdown",
   "metadata": {},
   "source": [
    "### Train and test datasets\n",
    "\n",
    "We will reserve $70 \\%$ of our dataset for training and $30 \\%$ for testing. "
   ]
  },
  {
   "cell_type": "code",
   "execution_count": 3,
   "metadata": {},
   "outputs": [
    {
     "name": "stdout",
     "output_type": "stream",
     "text": [
      "Number of training images: 1257\n",
      "Number of test images:      540\n"
     ]
    }
   ],
   "source": [
    "from sklearn.model_selection import train_test_split\n",
    "\n",
    "# ensure the same random numbers appear every time\n",
    "np.random.seed(0)\n",
    "\n",
    "train_size = 0.7\n",
    "test_size = 1 - train_size\n",
    "X_train, X_test, Y_train, Y_test = train_test_split(inputs, labels, train_size=train_size,\n",
    "                                                    test_size=test_size)\n",
    "\n",
    "print(f\"Number of training images: {len(X_train):4}\")\n",
    "print(f\"Number of test images:     {len(X_test):4}\")"
   ]
  },
  {
   "cell_type": "code",
   "execution_count": 4,
   "metadata": {},
   "outputs": [],
   "source": [
    "# to categorical turns our integer vector into a onehot representation\n",
    "# we implement it in in numpy\n",
    "def to_categorical_numpy(integer_vector):\n",
    "    n_inputs = len(integer_vector)\n",
    "    n_categories = np.max(integer_vector) + 1\n",
    "    onehot_vector = np.zeros((n_inputs, n_categories))\n",
    "    onehot_vector[range(n_inputs), integer_vector] = 1\n",
    "    \n",
    "    return onehot_vector\n",
    "\n",
    "Y_train_onehot, Y_test_onehot = to_categorical_numpy(Y_train), to_categorical_numpy(Y_test)"
   ]
  },
  {
   "cell_type": "markdown",
   "metadata": {},
   "source": [
    "### Task 1: Full object-oriented implementation\n",
    "\n",
    "It is very natural to think of the network as an object, with specific instances of the network\n",
    "being realizations of this object with different hyperparameters. An implementation using Python classes provides a clean structure and interface. \n",
    "\n",
    "The cost function should contain a $\\lambda \\sum_i \\frac{1}{2} w_i^2$ regularizer. (*Note* that `lmbd` is used here for the decay width in the regularizer)."
   ]
  },
  {
   "cell_type": "markdown",
   "metadata": {},
   "source": [
    "The skeleton for a Python class NeuralNetwork is implemented below. Specifically your tasks are to:\n",
    "* Implement the `feed_forward` method of the `NeuralNetwork` class. It should update `self.z_h`, `self.a_h`, `self.z_o`, and `self.probabilities`.\n",
    "* Correct the `backpropagation` method of the `NeuralNetwork` class. You must add the weight gradients from the regularizer term.\n",
    "* Implement the `predict` method of the `NeuralNetwork` class. It should return the class label (integer).\n",
    "* Implement the `predict_probabilities` method of the `NeuralNetwork` class. It should return the array of probabilities."
   ]
  },
  {
   "cell_type": "code",
   "execution_count": 5,
   "metadata": {},
   "outputs": [],
   "source": [
    "class NeuralNetwork:\n",
    "    def __init__(\n",
    "            self,\n",
    "            X_data,\n",
    "            Y_data,\n",
    "            n_hidden_neurons=50,\n",
    "            n_categories=10,\n",
    "            epochs=10,\n",
    "            batch_size=100,\n",
    "            eta=0.1,\n",
    "            lmbd=0.0):\n",
    "\n",
    "        self.X_data_full = X_data\n",
    "        self.Y_data_full = Y_data\n",
    "\n",
    "        self.n_inputs = X_data.shape[0]\n",
    "        self.n_features = X_data.shape[1]\n",
    "        self.n_hidden_neurons = n_hidden_neurons\n",
    "        self.n_categories = n_categories\n",
    "\n",
    "        self.epochs = epochs\n",
    "        self.batch_size = batch_size\n",
    "        self.iterations = self.n_inputs // self.batch_size\n",
    "        self.eta = eta\n",
    "        self.lmbd = lmbd\n",
    "\n",
    "        self.create_biases_and_weights()\n",
    "\n",
    "    def sigmoid(self, z):\n",
    "        return 1./(1. + np.exp(-z))\n",
    "\n",
    "    def create_biases_and_weights(self):\n",
    "        self.hidden_weights = np.random.randn(self.n_features, self.n_hidden_neurons)\n",
    "        self.hidden_bias = np.zeros(self.n_hidden_neurons) + 0.01\n",
    "\n",
    "        self.output_weights = np.random.randn(self.n_hidden_neurons, self.n_categories)\n",
    "        self.output_bias = np.zeros(self.n_categories) + 0.01\n",
    "\n",
    "    def feed_forward(self):\n",
    "        self.z_h = self.X_data @ self.hidden_weights + self.hidden_bias\n",
    "\n",
    "        self.a_h = self.sigmoid(self.z_h)\n",
    "        self.z_L = self.a_h @ self.output_weights + self.output_bias\n",
    "        self.probabilities = np.exp(self.z_L)\n",
    "\n",
    "        ### normalize ###\n",
    "        if (len(self.probabilities.shape) == 1): # if 1D array\n",
    "            self.probabilities /= np.sum(self.probabilities)\n",
    "        elif (len(self.probabilities.shape) == 2): # if 2D array\n",
    "            for p in self.probabilities:\n",
    "                p /= np.sum(p)\n",
    "        else:\n",
    "            raise Exception('input must be either 1D or 2D array')        \n",
    "        \n",
    "\n",
    "    def backpropagation(self):        \n",
    "        error_output = self.probabilities - self.Y_data\n",
    "        error_hidden = error_output @ self.output_weights.T * self.a_h * (1 - self.a_h)\n",
    "\n",
    "        self.output_weights_gradient = self.a_h.T @ error_output\n",
    "        self.output_bias_gradient = np.sum(error_output, axis=0)\n",
    "\n",
    "        self.hidden_weights_gradient = self.X_data.T @ error_hidden\n",
    "        self.hidden_bias_gradient = np.sum(error_hidden, axis=0)\n",
    "\n",
    "        self.output_weights -= self.eta * (self.output_weights_gradient + self.lmbd * self.output_weights)\n",
    "        self.output_bias -= self.eta * (self.output_bias_gradient + self.lmbd * self.output_bias)\n",
    "        self.hidden_weights -= self.eta * self.hidden_weights_gradient\n",
    "        self.hidden_bias -= self.eta * self.hidden_bias_gradient\n",
    "\n",
    "    def predict(self, X):\n",
    "        self.X_data = X\n",
    "        self.feed_forward()\n",
    "        \n",
    "        ### extract mode ###\n",
    "        if (len(self.probabilities.shape) == 1): # if single array\n",
    "            class_label = np.argmax(self.probabilities)\n",
    "        elif (len(self.probabilities.shape) == 2): # if list of arrays\n",
    "            class_label = np.argmax(self.probabilities, axis=1)\n",
    "        else:\n",
    "            raise Exception('input must be either 1D or 2D array')\n",
    "\n",
    "        return class_label\n",
    "\n",
    "    def predict_probabilities(self, X):\n",
    "        self.X_data = X\n",
    "        self.feed_forward()\n",
    "        \n",
    "        return self.probabilities\n",
    "\n",
    "    def train(self):\n",
    "        data_indices = np.arange(self.n_inputs)\n",
    "\n",
    "        for i in range(self.epochs):\n",
    "            for j in range(self.iterations):\n",
    "                # pick datapoints with replacement\n",
    "                chosen_datapoints = np.random.choice(\n",
    "                    data_indices, size=self.batch_size, replace=False\n",
    "                )\n",
    "\n",
    "                # minibatch training data\n",
    "                self.X_data = self.X_data_full[chosen_datapoints]\n",
    "                self.Y_data = self.Y_data_full[chosen_datapoints]\n",
    "\n",
    "                self.feed_forward()\n",
    "                self.backpropagation()"
   ]
  },
  {
   "cell_type": "markdown",
   "metadata": {},
   "source": [
    "### Task 2: Train and evaluate model performance on test data\n",
    "\n",
    "We measure the performance of the network using the *accuracy* score. Initialize the neural network as specified below and:\n",
    "* Measure the accuracy on the training data before training.\n",
    "* Measure the accuracy on the training data after training.\n",
    "* Measure the accuracy on the test data after training."
   ]
  },
  {
   "cell_type": "code",
   "execution_count": 6,
   "metadata": {
    "scrolled": true
   },
   "outputs": [
    {
     "name": "stdout",
     "output_type": "stream",
     "text": [
      "100 epochs \n",
      "100 batches \n",
      "50 hidden neurons \n",
      "10 categories \n",
      "eta = 0.01 \n",
      "lambda = 0.1\n",
      "Accuracy on training data before training: 0.046\n",
      "Accuracy on training data: 0.994\n",
      "Accuracy on test data: 0.941\n"
     ]
    }
   ],
   "source": [
    "from sklearn.metrics import accuracy_score\n",
    "\n",
    "epochs = 100\n",
    "batch_size = 100\n",
    "\n",
    "n_hidden_neurons = 50\n",
    "n_categories = 10\n",
    "\n",
    "eta=0.01\n",
    "lmbd=0.1\n",
    "\n",
    "# ensure the same random numbers appear every time\n",
    "np.random.seed(0)\n",
    "\n",
    "dnn = NeuralNetwork(X_train, Y_train_onehot, eta=eta, lmbd=lmbd, epochs=epochs, batch_size=batch_size,\n",
    "                    n_hidden_neurons=n_hidden_neurons, n_categories=n_categories)\n",
    "\n",
    "print(f\"{epochs} epochs \\n{batch_size} batches \\n{n_hidden_neurons} hidden neurons \\n{n_categories}\\\n",
    " categories \\neta = {eta} \\nlambda = {lmbd}\")\n",
    "print(f\"Accuracy on training data before training: {accuracy_score(dnn.predict(X_train), Y_train):.3f}\")\n",
    "dnn.train()\n",
    "print(f\"Accuracy on training data: {accuracy_score(dnn.predict(X_train), Y_train):.3f}\")\n",
    "print(f\"Accuracy on test data: {accuracy_score(dnn.predict(X_test), Y_test):.3f}\")"
   ]
  },
  {
   "cell_type": "markdown",
   "metadata": {},
   "source": [
    "### Task 3: Improving performance\n",
    "\n",
    "As you might see the network does not seem to be learning at all. It seems to be just guessing the label for each image.  \n",
    "In order to obtain a network that does something useful, we will have to tune the *hyperparameters* such as learning rate and regularization parameter. Those are hugely influential for the performance of the network. \n",
    "\n",
    "Typically a *grid-search* is performed, wherein we test different hyperparameters separated by orders of magnitude. For example we could test the learning rates $\\eta = 10^{-5}, 10^{-4},...,10^{1}$ with different regularization parameters $\\lambda = 10^{-5}, 10^{-4},,...,10^{1}$.  \n",
    "\n",
    "If this does not improve network performance, you may want to consider altering the network architecture, adding more neurons or hidden layers.  \n",
    "Andrew Ng goes through some of these considerations in this [video](https://youtu.be/F1ka6a13S9I). You can find a summary of the video [here](https://kevinzakka.github.io/2016/09/26/applying-deep-learning/).  \n"
   ]
  },
  {
   "cell_type": "markdown",
   "metadata": {},
   "source": [
    "* Perform a grid search to find the optimal hyperparameters for the network. \n",
    "* What model gives you the best performance?\n",
    "* What is the best accuracy on the test set?\n",
    "Note that we are only using 1 layer with 50 neurons, and human performance is estimated to be around $98\\%$ ($2\\%$ error rate)."
   ]
  },
  {
   "cell_type": "code",
   "execution_count": 7,
   "metadata": {},
   "outputs": [
    {
     "name": "stderr",
     "output_type": "stream",
     "text": [
      "/home/simon/miniconda3/envs/tif285-env/lib/python3.7/site-packages/ipykernel_launcher.py:30: RuntimeWarning: overflow encountered in exp\n",
      "/home/simon/miniconda3/envs/tif285-env/lib/python3.7/site-packages/ipykernel_launcher.py:44: RuntimeWarning: overflow encountered in exp\n",
      "/home/simon/miniconda3/envs/tif285-env/lib/python3.7/site-packages/ipykernel_launcher.py:51: RuntimeWarning: invalid value encountered in true_divide\n"
     ]
    }
   ],
   "source": [
    "epochs = 100\n",
    "batch_size = 100\n",
    "\n",
    "n_hidden_neurons = 50\n",
    "n_categories = 10\n",
    "\n",
    "### define hyperparameter grids ###\n",
    "etas = np.logspace(-5,1, 10)\n",
    "lmbds = np.logspace(-3,3, 10)\n",
    "eta_grid, lmbd_grid = np.meshgrid(etas, lmbds)\n",
    "accuracies_train = np.full_like(eta_grid, np.nan) # initiate\n",
    "accuracies_test = np.full_like(eta_grid, np.nan) # initiate\n",
    "\n",
    "### loop over hyperparameter grids ###\n",
    "for i, (eta, lmbd) in enumerate(zip(eta_grid.flatten(), lmbd_grid.flatten())):\n",
    "    \n",
    "    ### train network ###\n",
    "    dnn = NeuralNetwork(X_train, Y_train_onehot, eta=eta, lmbd=lmbd, epochs=epochs, batch_size=batch_size,\n",
    "                    n_hidden_neurons=n_hidden_neurons, n_categories=n_categories)\n",
    "    dnn.train()\n",
    "    \n",
    "    ### save accuracy ###\n",
    "    index = np.unravel_index(i, accuracies_train.shape)\n",
    "    accuracies_train[index] = accuracy_score(dnn.predict(X_train), Y_train)\n",
    "    accuracies_test[index] = accuracy_score(dnn.predict(X_test), Y_test)\n",
    "    "
   ]
  },
  {
   "cell_type": "code",
   "execution_count": 9,
   "metadata": {},
   "outputs": [
    {
     "data": {
      "image/png": "[encoded data removed]",
      "text/plain": [
       "<Figure size 864x432 with 3 Axes>"
      ]
     },
     "metadata": {
      "needs_background": "light"
     },
     "output_type": "display_data"
    }
   ],
   "source": [
    "fig, ax = plt.subplots(ncols=2, figsize=(12,6))\n",
    "cs0 = ax[0].contourf(eta_grid, lmbd_grid, accuracies_train)\n",
    "ax[0].set_title(r'Training data')\n",
    "ax[0].set_xscale('log')\n",
    "ax[0].set_yscale('log')\n",
    "ax[0].set_xlabel(r'$\\eta$', fontsize=fsize)\n",
    "ax[0].set_ylabel(r'$\\lambda$', fontsize=fsize)\n",
    "\n",
    "cs1 = ax[1].contourf(eta_grid, lmbd_grid, accuracies_test)\n",
    "ax[1].set_title(r'Test data')\n",
    "ax[1].set_xscale('log')\n",
    "ax[1].set_yscale('log')\n",
    "ax[1].set_xlabel(r'$\\eta$', fontsize=fsize)\n",
    "ax[1].set_ylabel(r'$\\lambda$', fontsize=fsize)\n",
    "\n",
    "fig.colorbar(cs1)\n",
    "plt.tight_layout()\n",
    "plt.show()"
   ]
  },
  {
   "cell_type": "code",
   "execution_count": null,
   "metadata": {},
   "outputs": [],
   "source": []
  }
 ],
 "metadata": {
  "kernelspec": {
   "display_name": "Python 3",
   "language": "python",
   "name": "python3"
  },
  "language_info": {
   "codemirror_mode": {
    "name": "ipython",
    "version": 3
   },
   "file_extension": ".py",
   "mimetype": "text/x-python",
   "name": "python",
   "nbconvert_exporter": "python",
   "pygments_lexer": "ipython3",
   "version": "3.7.3"
  }
 },
 "nbformat": 4,
 "nbformat_minor": 2
}
