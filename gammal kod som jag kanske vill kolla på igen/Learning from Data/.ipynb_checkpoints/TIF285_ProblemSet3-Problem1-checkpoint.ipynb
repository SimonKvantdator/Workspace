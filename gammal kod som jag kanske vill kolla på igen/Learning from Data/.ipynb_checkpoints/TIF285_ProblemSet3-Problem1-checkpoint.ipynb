{
 "cells": [
  {
   "cell_type": "code",
   "execution_count": 1,
   "metadata": {},
   "outputs": [],
   "source": [
    "import numpy as np\n",
    "from scipy.optimize import fsolve\n",
    "import matplotlib as mpl\n",
    "import matplotlib.pyplot as plt\n",
    "\n",
    "### latex stuff ###\n",
    "use_tex = False\n",
    "\n",
    "if use_tex:\n",
    "    width = 5.5  # 5.5 for producing plot for report\n",
    "    height = width/1.5\n",
    "    fsize = 10  # fontsize, 10 for producing plot for report\n",
    "    font = {'family': 'Times New Roman', 'size': fsize}\n",
    "else:\n",
    "    width = 6\n",
    "    height = width/1.5\n",
    "    fsize = 16\n",
    "    font = {'size': fsize}\n",
    "    \n",
    "mpl.rc('font', **font)\n",
    "mpl.rc('xtick', labelsize=fsize)\n",
    "mpl.rc('ytick', labelsize=fsize)\n",
    "mpl.rc('text', usetex=use_tex)"
   ]
  },
  {
   "cell_type": "markdown",
   "metadata": {},
   "source": [
    "# Problem Set 3\n",
    "## Learning from data [TIF285], Chalmers, Fall 2019\n",
    "\n",
    "Last revised: 09-Oct-2019 by Christian Forssén [christian.forssen@chalmers.se]"
   ]
  },
  {
   "cell_type": "markdown",
   "metadata": {},
   "source": [
    "## Instructions"
   ]
  },
  {
   "cell_type": "markdown",
   "metadata": {},
   "source": [
    "- See deadline on the course web page\n",
    "- This problem set is performed individually (but collaboration is encouraged) and contains a number of basic and extra problems; you can choose which and how many to work on.\n",
    "- See examination rules on the course web page.\n",
    "- Hand-in is performed through the following **two** actions:\n",
    "  - Upload of your solution in the form of a jupyter notebook, or python code, via Canvas.\n",
    "  - Answer the corresponding questions on OpenTA.\n",
    "  \n",
    "  Note that the hand-in is not complete, and will not be graded, if any of those actions is not performed."
   ]
  },
  {
   "cell_type": "markdown",
   "metadata": {},
   "source": [
    "Fill your personal details\n",
    "- Name: **Jacobsson, Simon**\n",
    "- Personnummer: **970417-0456**\n",
    "  <br/>\n",
    "  (civic registration number)"
   ]
  },
  {
   "cell_type": "markdown",
   "metadata": {},
   "source": [
    "## Problems\n",
    "The 10 basic points of this problem set are distributed over four problems:\n",
    "1. Assigning probabilities for a hundred-sided die (2 basic points)\n",
    "2. Chi-squared hypothesis testing (2 basic points)\n",
    "3. Gaussian process regression (3 basic points)\n",
    "4. Neural network classification (3 basic points)\n",
    "\n",
    "Each of them will be presented in a separate jupyter notebook."
   ]
  },
  {
   "cell_type": "markdown",
   "metadata": {},
   "source": [
    "# Problem 1: Assigning probabilities for a hundred-sided die\n",
    "### (2 basic points)"
   ]
  },
  {
   "cell_type": "markdown",
   "metadata": {},
   "source": [
    "Consider a hundred-sided die (labeled with 1, 2, 3, ..., 100) for which you know that the average result is 10.\n",
    "\n",
    "Use the principle of maximum entropy to assign the probabilities $\\{ p_i \\}_{i=1}^{100}$ for the outcomes of a die roll.\n",
    "\n",
    "*Hint: Use the method of Lagrange multipliers. See, e.g., Gregory section 8.6-7.*\n",
    "\n",
    "*There are two constraints from the known information: the normalization of the probabilities $\\sum_i p_i = 1$ and the average result $\\sum_i i p_i = 10$. In lack of other information, it is best to set the Lebesque measure $m_i = \\mathrm{constant}$.*"
   ]
  },
  {
   "cell_type": "markdown",
   "metadata": {},
   "source": [
    "### Task\n",
    "* Assign the probabilities and make a bar plot.\n",
    "* The distribution looks like an exponential $e^{-\\lambda i}$. What is its decay constant $\\lambda$?"
   ]
  },
  {
   "cell_type": "code",
   "execution_count": 2,
   "metadata": {
    "scrolled": true
   },
   "outputs": [
    {
     "name": "stdout",
     "output_type": "stream",
     "text": [
      "lambda = 0.105\n"
     ]
    },
    {
     "data": {
      "image/png": "[encoded data removed]",
      "text/plain": [
       "<Figure size 432x288 with 1 Axes>"
      ]
     },
     "metadata": {
      "needs_background": "light"
     },
     "output_type": "display_data"
    }
   ],
   "source": [
    "mu = 10.\n",
    "y = np.arange(1, 101)\n",
    "\n",
    "def f(l):\n",
    "    return np.sum(y * np.exp(-l * y) - mu * np.exp(-l * y))\n",
    "\n",
    "lambd = fsolve(f, x0=0.1)[0]\n",
    "print(f'lambda = {lambd:.3f}')\n",
    "\n",
    "N = np.sum(np.exp(-lambd * y)) # normalization\n",
    "p = np.exp(-lambd * y) / N\n",
    "\n",
    "fig, ax = plt.subplots()\n",
    "ax.bar(y, p)\n",
    "plt.show()"
   ]
  },
  {
   "cell_type": "code",
   "execution_count": 3,
   "metadata": {},
   "outputs": [
    {
     "data": {
      "text/plain": [
       "0.0005733351803566066"
      ]
     },
     "execution_count": 3,
     "metadata": {},
     "output_type": "execute_result"
    }
   ],
   "source": [
    "p[49]"
   ]
  }
 ],
 "metadata": {
  "kernelspec": {
   "display_name": "Python 3",
   "language": "python",
   "name": "python3"
  },
  "language_info": {
   "codemirror_mode": {
    "name": "ipython",
    "version": 3
   },
   "file_extension": ".py",
   "mimetype": "text/x-python",
   "name": "python",
   "nbconvert_exporter": "python",
   "pygments_lexer": "ipython3",
   "version": "3.7.6"
  },
  "nav_menu": {},
  "toc": {
   "navigate_menu": true,
   "number_sections": true,
   "sideBar": true,
   "threshold": 6,
   "toc_cell": false,
   "toc_section_display": "block",
   "toc_window_display": false
  }
 },
 "nbformat": 4,
 "nbformat_minor": 1
}
