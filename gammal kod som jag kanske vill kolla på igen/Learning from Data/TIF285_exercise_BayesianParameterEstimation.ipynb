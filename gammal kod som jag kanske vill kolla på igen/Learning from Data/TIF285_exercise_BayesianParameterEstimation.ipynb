{
 "cells": [
  {
   "cell_type": "markdown",
   "metadata": {
    "slideshow": {
     "slide_type": "slide"
    }
   },
   "source": [
    "# Exercise: Bayesian parameter estimation\n",
    "\n",
    "Last revised: 15-Sep-2019 by Christian Forssén [christian.forssen@chalmers.se]"
   ]
  },
  {
   "cell_type": "markdown",
   "metadata": {
    "slideshow": {
     "slide_type": "fragment"
    }
   },
   "source": [
    "### Import of modules"
   ]
  },
  {
   "cell_type": "code",
   "execution_count": 1,
   "metadata": {
    "slideshow": {
     "slide_type": "-"
    }
   },
   "outputs": [],
   "source": [
    "import numpy as np\n",
    "from scipy.optimize import minimize\n",
    "import matplotlib.pyplot as plt\n",
    "%matplotlib inline\n",
    "\n",
    "# Not really needed, but nicer plots\n",
    "import seaborn as sns\n",
    "sns.set()      \n",
    "sns.set_context(\"talk\")"
   ]
  },
  {
   "cell_type": "markdown",
   "metadata": {
    "slideshow": {
     "slide_type": "slide"
    }
   },
   "source": [
    "## Parameter estimation: fitting a straight line \n",
    "\n",
    "Adapted from BayesianAstronomy.\n",
    "$% Some LaTeX definitions we'll use.\n",
    "\\newcommand{\\pr}{\\textrm{p}}\n",
    "$"
   ]
  },
  {
   "cell_type": "markdown",
   "metadata": {
    "slideshow": {
     "slide_type": "subslide"
    }
   },
   "source": [
    "### The Data\n",
    "\n",
    "Let's start by creating some data that we will fit with a straight line.  We'll start with a constant standard deviation of $\\sigma$ on the $y$ values and no error on $x$."
   ]
  },
  {
   "cell_type": "code",
   "execution_count": 2,
   "metadata": {},
   "outputs": [
    {
     "data": {
      "image/png": "[encoded data removed]",
      "text/plain": [
       "<Figure size 432x432 with 1 Axes>"
      ]
     },
     "metadata": {
      "needs_background": "light"
     },
     "output_type": "display_data"
    }
   ],
   "source": [
    "def make_data(intercept, slope, N=20, dy=5, rseed=42):\n",
    "    \"\"\"Given a straight line defined by intercept and slope:\n",
    "          y = slope * x + intercept\n",
    "       generate N points randomly spaced points from x=0 to x=100\n",
    "       with Gaussian (i.e., normal) error with mean zero and standard\n",
    "       deviation dy.\n",
    "       \n",
    "       Return the x and y arrays and an array of standard deviations.\n",
    "    \"\"\"\n",
    "    rand = np.random.RandomState(rseed)\n",
    "    x = 100 * rand.rand(N)\n",
    "    y = intercept + slope * x\n",
    "    y += dy * rand.randn(N)\n",
    "    return x, y, dy * np.ones_like(x)\n",
    "\n",
    "intercept = 25.\n",
    "slope = 0.5\n",
    "theta_true = [intercept, slope]\n",
    "x, y, dy = make_data(*theta_true)\n",
    "\n",
    "fig = plt.figure(figsize=(6,6))\n",
    "ax = fig.add_subplot(1,1,1)\n",
    "ax.errorbar(x, y, dy, fmt='o')\n",
    "ax.set_xlabel(r'$x$')\n",
    "ax.set_ylabel(r'$y$')\n",
    "plot_title = rf'intercept $= {intercept:.1f}$, slope $= {slope:.1f}$, ' \\\n",
    "              + rf' $\\sigma = {dy[0]:.1f}$'\n",
    "ax.set_title(plot_title)\n",
    "fig.tight_layout()"
   ]
  },
  {
   "cell_type": "markdown",
   "metadata": {
    "slideshow": {
     "slide_type": "subslide"
    }
   },
   "source": [
    "### The Model\n",
    "\n",
    "Next we need to specify a model. We're fitting a straight line to data, so we'll need a slope and an intercept; i.e.\n",
    "\n",
    "$$\n",
    "y_M(x) = mx + b\n",
    "$$\n",
    "\n",
    "where our parameter vector will be \n",
    "\n",
    "$$\n",
    "\\theta = [b, m]\n",
    "$$\n",
    "\n",
    "But this is only half the picture: what we mean by a \"model\" in a Bayesian sense is not only this expected value $y_M(x;\\theta)$, but a **probability distribution** for our data.\n",
    "That is, we need an expression to compute the likelihood $\\pr(D\\mid\\theta)$ for our data as a function of the parameters $\\theta$."
   ]
  },
  {
   "cell_type": "markdown",
   "metadata": {},
   "source": [
    "Here we are given data with simple error bars, which imply that the probability for any *single* data point is a normal distribution about the true value. That is,\n",
    "\n",
    "$$\n",
    "y_i \\sim \\mathcal{N}(y_M(x_i;\\theta), \\sigma)\n",
    "$$\n",
    "\n",
    "or, in other words,\n",
    "\n",
    "$$\n",
    "\\pr(x_i,y_i\\mid\\theta) = \\frac{1}{\\sqrt{2\\pi\\varepsilon_i^2}} \\exp\\left(\\frac{-\\left[y_i - y_M(x_i;\\theta)\\right]^2}{2\\varepsilon_i^2}\\right)\n",
    "$$\n",
    "\n",
    "where $\\varepsilon_i$ are the (known) measurement errors indicated by the error bars."
   ]
  },
  {
   "cell_type": "markdown",
   "metadata": {},
   "source": [
    "Assuming all the points are independent, we can find the full likelihood by multiplying the individual likelihoods together:\n",
    "\n",
    "$$\n",
    "\\pr(D\\mid\\theta) = \\prod_{i=1}^N \\pr(x_i,y_i\\mid\\theta)\n",
    "$$\n",
    "\n",
    "For convenience (and also for numerical accuracy) this is often expressed in terms of the log-likelihood:\n",
    "\n",
    "$$\n",
    "\\log \\pr(D\\mid\\theta) = -\\frac{1}{2}\\sum_{i=1}^N\\left(\\log(2\\pi\\varepsilon_i^2) + \\frac{\\left[y_i - y_M(x_i;\\theta)\\right]^2}{\\varepsilon_i^2}\\right)\n",
    "$$"
   ]
  },
  {
   "cell_type": "markdown",
   "metadata": {},
   "source": [
    "###  Exercise\n",
    "\n",
    "1. *Write a Python function which computes the log-likelihood given a parameter vector $\\theta$, an array of errors $\\varepsilon$, and an array of $x$ and $y$ values*\n",
    "\n",
    "2. *Use tools in [``scipy.optimize``](http://docs.scipy.org/doc/scipy/reference/optimize.html) to maximize this likelihood (i.e. minimize the negative log-likelihood). How close is this result to the input ``theta_true`` above?*"
   ]
  },
  {
   "cell_type": "code",
   "execution_count": 3,
   "metadata": {},
   "outputs": [],
   "source": [
    "def log_likelihood(theta, sigmas, x_data, y_data):\n",
    "    \"\"\"\n",
    "    Returns the log of the probability density of x_data & y_data being observed from\n",
    "    a linear model y = theta[0] * x**0 + theta[1] * x**1 + ... + error where error is\n",
    "    a random variable with a normal distribution centered at 0 with variance sigma**2\n",
    "    \"\"\"\n",
    "    assert len(sigmas) == len(x_data) and len(x_data) == len(y_data)\n",
    "\n",
    "    X_d = np.array([x_data**i for i in range(0,len(theta))]).T #design matrix    \n",
    "    y_pred = X_d.dot(theta)\n",
    "    sum = (np.log(2 * np.pi * sigmas**2) + (y_data - y_pred)**2 / sigmas**2).sum()\n",
    "    return -(1/2) * sum"
   ]
  },
  {
   "cell_type": "code",
   "execution_count": 4,
   "metadata": {},
   "outputs": [
    {
     "name": "stdout",
     "output_type": "stream",
     "text": [
      "Compare theta_min = [24.81805301  0.47417263] \n",
      "to      theta_true = [25.0, 0.5]\n"
     ]
    }
   ],
   "source": [
    "def obj_fun(theta):\n",
    "    return -log_likelihood(theta, dy, x, y)\n",
    "\n",
    "theta_guess = np.array([10, 1])\n",
    "res = minimize(obj_fun, theta_guess, method='nelder-mead')\n",
    "print(f\"Compare theta_min = {res['x']} \\nto      theta_true = {theta_true}\")"
   ]
  },
  {
   "cell_type": "markdown",
   "metadata": {},
   "source": [
    "## The Prior\n",
    "\n",
    "We have computed the likelihood, now we need to think about the prior $\\pr(\\theta\\mid I)$.\n",
    "\n",
    "This is where Bayesianism gets a bit controversial... what can we actually say about the slope and intercept before we fit our data?\n",
    "\n",
    "There are several approaches to choosing priors that you'll come across in practice (more on this later):"
   ]
  },
  {
   "cell_type": "markdown",
   "metadata": {},
   "source": [
    "1. **Conjugate priors.**\n",
    "A [conjugate prior](https://en.wikipedia.org/wiki/Conjugate_prior) is a prior which, due to its mathematical relation to the likelihood, makes the result analytically computable.\n",
    "\n",
    "2. **Empirical priors.** \n",
    "Empirical Priors are priors which are actually posteriors from previous studies of the same phenomenon. For example, it's common in Supernova cosmology studies to use the WMAP results as a prior: that is, to actually plug-in a *real result* and use the new data to improve on that. This situation is where Bayesian approaches really shine.  For the linear fit, you might imagine that the $x, y$ data is a more accurate version of a previous experiment, where we've found that the intercept is $\\theta_0 = 50 \\pm 30$ and the slope is $\\theta_1 = 1.0 \\pm 0.5$.\n",
    "In this case, we'd encode this prior knowledge in the prior distribution itself.\n",
    "\n",
    "3. **Flat priors.**\n",
    "If you don't have an empirical prior, you might be tempted to simply use a *flat prior* – i.e. a prior that is constant between two reasonable limits (i.e. equal probability slopes from -1000 to +1000).  The problem is that flat priors are not always non-informative! For example, a flat prior on the slope will effectively give a higher weight to larger slopes.\n",
    "\n",
    "4. **Non-informative priors.**\n",
    "What we *really* want in cases where no empirical prior is available is a **non-informative prior**. Among other things, such a prior should not depend on the units of the data.\n",
    "Perhaps the most principled approach to choosing non-informative priors was the *principle of maximum entropy* advocated by Jaynes ([book](http://omega.albany.edu:8008/JaynesBook.html)).\n",
    "Similar in spirit is the commonly-used [Jeffreys Prior](https://en.wikipedia.org/wiki/Jeffreys_prior), which in many cases of interest amounts to a \"scale invariant\" prior: a flat prior on the logarithm of the parameter.\n",
    "In the case of the linear slope, we often want a prior which does not artificially over-weight large slopes: there are a couple possible approaches to this (see http://arxiv.org/abs/1411.5018 for some discussion). For our situation, we might use a flat prior on the angle the line makes with the x-axis, which gives\n",
    "$$\n",
    "\\pr(m) \\propto (1 + m^2)^{-3/2}\n",
    "$$\n",
    "For lack of a better term, I like to call this a \"symmetric prior\" on the slope (because it's the same whether we're fitting $y = mx + b$ or $x = m^\\prime y + b^\\prime$)."
   ]
  },
  {
   "cell_type": "markdown",
   "metadata": {},
   "source": [
    "### Implementation\n",
    "\n",
    "Let's define two python functions to compute the options for our prior: we'll use both a (log) flat prior and a (log) symmetric prior.\n",
    "In general, we need not worry about the normalization of the prior or the likelihood, which makes our lives easier:"
   ]
  },
  {
   "cell_type": "code",
   "execution_count": 5,
   "metadata": {},
   "outputs": [],
   "source": [
    "def log_flat_prior(theta):\n",
    "    if np.all(np.abs(theta) < 1000):\n",
    "        return 0 # log(1)\n",
    "    else:\n",
    "        return -np.inf  # log(0)\n",
    "    \n",
    "def log_symmetric_prior(theta):\n",
    "    if np.abs(theta[0]) < 1000:\n",
    "        return -1.5 * np.log(1 + theta[1] ** 2)\n",
    "    else:\n",
    "        return -np.inf  # log(0)"
   ]
  },
  {
   "cell_type": "markdown",
   "metadata": {},
   "source": [
    "With these defined, we now have what we need to compute the log posterior as a function of the model parameters.\n",
    "You might be tempted to maximize this posterior in the same way that we did with the likelihood above, but this is not a Bayesian result! The Bayesian result is a (possibly marginalized) posterior probability for our parameters.\n",
    "The mode of a probability distribution is perhaps slightly informative, but it is in no way a Bayesian result.\n",
    "\n",
    "Next you will plot the posterior probability as a function of the slope and intercept."
   ]
  },
  {
   "cell_type": "markdown",
   "metadata": {},
   "source": [
    "## Exercise\n",
    "\n",
    "*Plot the posterior probability distribution for the slope and intercept, once for each prior. You might use ``plt.contourf()`` or ``plt.pcolor()``. How different are the distributions?*"
   ]
  },
  {
   "cell_type": "code",
   "execution_count": 6,
   "metadata": {},
   "outputs": [
    {
     "data": {
      "image/png": "[encoded data removed]",
      "text/plain": [
       "<Figure size 1152x576 with 2 Axes>"
      ]
     },
     "metadata": {
      "needs_background": "light"
     },
     "output_type": "display_data"
    }
   ],
   "source": [
    "def plot_log_posteriors(x_data, y_data, sigmas):\n",
    "    \n",
    "    def log_flat_posterior(theta):\n",
    "        return log_flat_prior(theta) + log_likelihood(theta, sigmas, x_data, y_data)\n",
    "\n",
    "    def log_symmetric_posterior(theta):\n",
    "        return log_symmetric_prior(theta) + log_likelihood(theta, sigmas, x_data, y_data)\n",
    "\n",
    "    \n",
    "    theta0_vec = np.linspace(-10,10) + 25\n",
    "    theta1_vec = np.linspace(-.5,.5) + 0.5\n",
    "    theta0_grid, theta1_grid = np.meshgrid(theta0_vec, theta1_vec)\n",
    "    log_flat_posterior_grid = np.zeros_like(theta0_grid) #initiate\n",
    "    log_symmetric_posterior_grid = np.zeros_like(theta0_grid) #initiate\n",
    "\n",
    "    ### calculate posterior pdfs ###\n",
    "    for i, theta0 in enumerate(theta0_vec):\n",
    "        for j, theta1 in enumerate(theta1_vec):\n",
    "            log_flat_posterior_grid[i,j] = log_flat_posterior([theta0, theta1])\n",
    "    for i, theta0 in enumerate(theta0_vec):\n",
    "        for j, theta1 in enumerate(theta1_vec):\n",
    "            log_symmetric_posterior_grid[i,j] = log_symmetric_posterior([theta0, theta1])\n",
    "\n",
    "    ### plot pdf:s ###\n",
    "    fig, ax = plt.subplots(figsize=(16,8), ncols=2)\n",
    "    ax[0].contourf(theta0_grid, theta1_grid, log_flat_posterior_grid)\n",
    "    ax[0].set_xlabel(r'$\\theta_0$')\n",
    "    ax[0].set_ylabel(r'$\\theta_1$')\n",
    "    ax[0].set_title(r'log(posterior($\\theta_0, \\theta_1$)) for flat prior')\n",
    "\n",
    "    ax[1].contourf(theta0_grid, theta1_grid, log_symmetric_posterior_grid)\n",
    "    ax[1].set_xlabel(r'$\\theta_0$')\n",
    "    ax[1].set_ylabel(r'$\\theta_1$')\n",
    "    ax[1].set_title(r'log(posterior($\\theta_0, \\theta_1$)) for symmetric prior')\n",
    "    \n",
    "plot_log_posteriors(x, y, dy)"
   ]
  },
  {
   "cell_type": "code",
   "execution_count": 11,
   "metadata": {},
   "outputs": [
    {
     "data": {
      "image/png": "[encoded data removed]",
      "text/plain": [
       "<Figure size 1152x576 with 2 Axes>"
      ]
     },
     "metadata": {
      "needs_background": "light"
     },
     "output_type": "display_data"
    }
   ],
   "source": [
    "x, y, dy = make_data(*theta_true, N=1000)\n",
    "plot_log_posteriors(x, y, dy)"
   ]
  },
  {
   "cell_type": "markdown",
   "metadata": {},
   "source": [
    "You should find that the form of the prior in this case makes very little difference to the final posterior. In general, this often ends up being the case: for all the worrying about the effect of the prior, when you have enough data to constrain your model well, the prior has very little effect."
   ]
  },
  {
   "cell_type": "markdown",
   "metadata": {},
   "source": [
    "## Exercise\n",
    "1. *Modify the dataset – how do the results change if you have very few data points or very large errors?*\n",
    "\n",
    "2. *If you finish this quickly, try adding 1-sigma and 2-sigma contours to your plot, keeping in mind that the probabilities are not normalized. You can add them to your plot with ``plt.contour()``.*"
   ]
  },
  {
   "cell_type": "code",
   "execution_count": null,
   "metadata": {},
   "outputs": [],
   "source": []
  },
  {
   "cell_type": "markdown",
   "metadata": {},
   "source": [
    "Let's use a different data with few measurements and see what happens:"
   ]
  },
  {
   "cell_type": "code",
   "execution_count": 12,
   "metadata": {
    "scrolled": true
   },
   "outputs": [
    {
     "data": {
      "image/png": "[encoded data removed]",
      "text/plain": [
       "<Figure size 432x288 with 1 Axes>"
      ]
     },
     "metadata": {
      "needs_background": "light"
     },
     "output_type": "display_data"
    }
   ],
   "source": [
    "x2, y2, dy2 = make_data(*theta_true, N=3, dy=40)\n",
    "plt.errorbar(x2, y2, dy2, fmt='o');"
   ]
  },
  {
   "cell_type": "markdown",
   "metadata": {},
   "source": [
    "### Exercise\n",
    "*Plot the joint pdf for the slope and the intercept in this case*"
   ]
  },
  {
   "cell_type": "code",
   "execution_count": 7,
   "metadata": {},
   "outputs": [],
   "source": [
    "# Write your code here"
   ]
  },
  {
   "cell_type": "code",
   "execution_count": null,
   "metadata": {},
   "outputs": [],
   "source": []
  },
  {
   "cell_type": "markdown",
   "metadata": {},
   "source": [
    "You should find that the form of the prior **does** have a clear effect in the case where the data don't constrain the model well (in this case, three points with very large error bars).\n",
    "This encodes exactly what you would scientifically expect: if you don't have very good data, it is unlikely to change your views of the world (which are of course encoded in the prior)."
   ]
  }
 ],
 "metadata": {
  "celltoolbar": "Slideshow",
  "kernelspec": {
   "display_name": "Python 3",
   "language": "python",
   "name": "python3"
  },
  "language_info": {
   "codemirror_mode": {
    "name": "ipython",
    "version": 3
   },
   "file_extension": ".py",
   "mimetype": "text/x-python",
   "name": "python",
   "nbconvert_exporter": "python",
   "pygments_lexer": "ipython3",
   "version": "3.7.3"
  }
 },
 "nbformat": 4,
 "nbformat_minor": 1
}
